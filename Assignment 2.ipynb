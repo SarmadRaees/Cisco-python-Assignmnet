{
 "cells": [
  {
   "cell_type": "markdown",
   "metadata": {},
   "source": [
    "# Q1"
   ]
  },
  {
   "cell_type": "code",
   "execution_count": 46,
   "metadata": {},
   "outputs": [
    {
     "name": "stdout",
     "output_type": "stream",
     "text": [
      "Enter Marks of Science = 20\n",
      "Enter Marks of Math = 90\n",
      "Enter Marks of Physics = 80\n",
      "Enter Marks of Computer = 70\n",
      "Enter Marks of Chemistry80\n",
      "Your Grade is C+\n"
     ]
    }
   ],
   "source": [
    "mark1=int(input(\"Enter Marks of Science = \"))\n",
    "mark2=int(input(\"Enter Marks of Math = \"))\n",
    "mark3=int(input(\"Enter Marks of Physics = \"))\n",
    "mark4=int(input(\"Enter Marks of Computer = \"))\n",
    "mark5=int(input(\"Enter Marks of Chemistry\"))\n",
    "marks=mark1+mark2+mark3+mark4+mark5/5\n",
    "average = marks/5;\n",
    "if(average>=91 and average<=100):\n",
    "    print(\"Your Grade is A+\");\n",
    "elif(average>=81 and average<=90):\n",
    "    print(\"Your Grade is A\");\n",
    "elif(average>=71 and average<=80):\n",
    "    print(\"Your Grade is B+\");\n",
    "elif(average>=61 and average<=70):\n",
    "    print(\"Your Grade is B\");\n",
    "elif(average>=51 and average<=60):\n",
    "    print(\"Your Grade is C+\");\n",
    "elif(average>=41 and average<=50):\n",
    "    print(\"Your Grade is C\");\n",
    "elif(average>=0 and average<=40):\n",
    "    print(\"Your Grade is F\");\n",
    "else:\n",
    "    print(\"Strange Grade..!!\");"
   ]
  },
  {
   "cell_type": "markdown",
   "metadata": {},
   "source": [
    "# Q2"
   ]
  },
  {
   "cell_type": "code",
   "execution_count": 3,
   "metadata": {},
   "outputs": [
    {
     "name": "stdout",
     "output_type": "stream",
     "text": [
      "Enter No to check = 5\n",
      "Odd No\n"
     ]
    }
   ],
   "source": [
    "no=int(input(\"Enter No to check = \"))\n",
    "if no%2==0:\n",
    "    print(\"Even No\")\n",
    "else:\n",
    "    print(\"Odd No\")"
   ]
  },
  {
   "cell_type": "markdown",
   "metadata": {},
   "source": [
    "# Q3"
   ]
  },
  {
   "cell_type": "code",
   "execution_count": 12,
   "metadata": {},
   "outputs": [],
   "source": [
    "list1=[1,2,3,4]"
   ]
  },
  {
   "cell_type": "code",
   "execution_count": 13,
   "metadata": {},
   "outputs": [
    {
     "data": {
      "text/plain": [
       "4"
      ]
     },
     "execution_count": 13,
     "metadata": {},
     "output_type": "execute_result"
    }
   ],
   "source": [
    "print(len(list1))"
   ]
  },
  {
   "cell_type": "markdown",
   "metadata": {},
   "source": [
    "# Q4"
   ]
  },
  {
   "cell_type": "code",
   "execution_count": 15,
   "metadata": {},
   "outputs": [
    {
     "data": {
      "text/plain": [
       "10"
      ]
     },
     "execution_count": 15,
     "metadata": {},
     "output_type": "execute_result"
    }
   ],
   "source": [
    "list2=[1,2,3,4]\n",
    "sum(list2)"
   ]
  },
  {
   "cell_type": "markdown",
   "metadata": {},
   "source": [
    "# Q5"
   ]
  },
  {
   "cell_type": "code",
   "execution_count": 18,
   "metadata": {},
   "outputs": [],
   "source": [
    "list3=[1,2,3,4,2,60,7,9,23,50,]"
   ]
  },
  {
   "cell_type": "code",
   "execution_count": 19,
   "metadata": {},
   "outputs": [
    {
     "data": {
      "text/plain": [
       "60"
      ]
     },
     "execution_count": 19,
     "metadata": {},
     "output_type": "execute_result"
    }
   ],
   "source": [
    "max(list3)"
   ]
  },
  {
   "cell_type": "markdown",
   "metadata": {},
   "source": [
    "# Q6"
   ]
  },
  {
   "cell_type": "code",
   "execution_count": 29,
   "metadata": {},
   "outputs": [],
   "source": [
    "a = [1, 1, 2, 3, 5, 8, 13, 21, 34, 55, 89]\n",
    "k=5"
   ]
  },
  {
   "cell_type": "code",
   "execution_count": 30,
   "metadata": {},
   "outputs": [],
   "source": [
    "b=[i for i in a if i >k]"
   ]
  },
  {
   "cell_type": "code",
   "execution_count": 31,
   "metadata": {},
   "outputs": [
    {
     "data": {
      "text/plain": [
       "[8, 13, 21, 34, 55, 89]"
      ]
     },
     "execution_count": 31,
     "metadata": {},
     "output_type": "execute_result"
    }
   ],
   "source": [
    "b"
   ]
  },
  {
   "cell_type": "code",
   "execution_count": null,
   "metadata": {},
   "outputs": [],
   "source": []
  }
 ],
 "metadata": {
  "kernelspec": {
   "display_name": "Python 3",
   "language": "python",
   "name": "python3"
  },
  "language_info": {
   "codemirror_mode": {
    "name": "ipython",
    "version": 3
   },
   "file_extension": ".py",
   "mimetype": "text/x-python",
   "name": "python",
   "nbconvert_exporter": "python",
   "pygments_lexer": "ipython3",
   "version": "3.7.3"
  }
 },
 "nbformat": 4,
 "nbformat_minor": 2
}
